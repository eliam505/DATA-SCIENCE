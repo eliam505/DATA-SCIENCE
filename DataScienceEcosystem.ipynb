{
  "metadata": {
    "kernelspec": {
      "name": "python",
      "display_name": "Python (Pyodide)",
      "language": "python"
    },
    "language_info": {
      "codemirror_mode": {
        "name": "python",
        "version": 3
      },
      "file_extension": ".py",
      "mimetype": "text/x-python",
      "name": "python",
      "nbconvert_exporter": "python",
      "pygments_lexer": "ipython3",
      "version": "3.8"
    }
  },
  "nbformat_minor": 5,
  "nbformat": 4,
  "cells": [
    {
      "id": "42401e29-b3a8-4d72-b4e8-c4cba92859a8",
      "cell_type": "markdown",
      "source": "# Data Science Tools And Ecosystem",
      "metadata": {}
    },
    {
      "id": "a00408d4-8140-4e29-a980-c72bc299508a",
      "cell_type": "markdown",
      "source": "#### In this notebook, Data Science Tools and Ecosystem are summarized.",
      "metadata": {}
    },
    {
      "id": "aa530325-9cb6-43e0-a32b-b3614604941f",
      "cell_type": "markdown",
      "source": "### Objectives:\n* List popular languages for Data Science\n* Examples of evaluating arithmetic expressions in Python\n* List commonly used libraries by Data Science",
      "metadata": {}
    },
    {
      "id": "2060363d-9a28-40f0-a501-8e70de8583d8",
      "cell_type": "markdown",
      "source": "###### Some of the popular languages that Data Scientists use are:\n1. Python\n2. R\n3. SQL\n4. MATLAB\n5. Java",
      "metadata": {}
    },
    {
      "id": "05901604-5ff1-4d9b-84e3-09daa4fafbfb",
      "cell_type": "markdown",
      "source": "###### Some of the commonly used libraries used by Data Scientists include:\n1. Pandas\n2. ggplot2\n3. numpy\n4. scikit-learn",
      "metadata": {}
    },
    {
      "id": "d9d77966-1492-438f-ad01-b33aed34da06",
      "cell_type": "markdown",
      "source": "| Data Science Tools |\n| -------------|\n| Jupyter Notebook |\n| RStudios | \n| Apache Spark |",
      "metadata": {}
    },
    {
      "id": "644f6c3d-512e-4cd7-9ab2-b49c3f1a1518",
      "cell_type": "markdown",
      "source": "### Below are a few examples of evaluating arithmetic expressions in Python\n- 4*4\n- (1+2+1)*4\n- (2+2)*4",
      "metadata": {}
    },
    {
      "id": "a15201bd-c050-4cda-adbd-6ba64c02a6a9",
      "cell_type": "code",
      "source": "(3*4)+5 #This a simple arithmetic expression to mutiply then add integers",
      "metadata": {
        "trusted": true
      },
      "outputs": [
        {
          "execution_count": 5,
          "output_type": "execute_result",
          "data": {
            "text/plain": "17"
          },
          "metadata": {}
        }
      ],
      "execution_count": 5
    },
    {
      "id": "34b1927a-38c1-47cd-8b36-5ddaabc2da0a",
      "cell_type": "code",
      "source": "200/60 #This will convert 200 minutes to hours by diving by 60",
      "metadata": {
        "trusted": true
      },
      "outputs": [
        {
          "execution_count": 6,
          "output_type": "execute_result",
          "data": {
            "text/plain": "3.3333333333333335"
          },
          "metadata": {}
        }
      ],
      "execution_count": 6
    },
    {
      "id": "22baa64a-be5b-4ad8-baa8-214d1043f2ee",
      "cell_type": "markdown",
      "source": "## Author Elian Boscan",
      "metadata": {}
    }
  ]
}